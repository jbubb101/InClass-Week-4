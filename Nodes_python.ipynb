{
 "cells": [
  {
   "cell_type": "code",
   "execution_count": 5,
   "metadata": {},
   "outputs": [],
   "source": [
    "# 28 weeks, 17 weeks, 22 weeks.\n",
    "\n",
    "label_1 = {\"optimistic\":2,\"Most Likely\":6,\"Pessimistic\":9}\n",
    "label_2 = {\"optimistic\":2,\"Most Likely\":5,\"Pessimistic\":8}\n",
    "label_3 = {\"optimistic\":6,\"Most Likely\":12,\"Pessimistic\":18}\n",
    "label_4 = {\"optimistic\":4,\"Most Likely\":5,\"Pessimistic\":6}\n",
    "label_5 = {\"optimistic\":8,\"Most Likely\":11,\"Pessimistic\":14}\n",
    "label_6 = {\"optimistic\":2,\"Most Likely\":6,\"Pessimistic\":9}\n",
    "label_7 = {\"optimistic\":2,\"Most Likely\":6,\"Pessimistic\":9}\n",
    "label_8 = {\"optimistic\":2,\"Most Likely\":6,\"Pessimistic\":9}\n",
    "label_9 = {\"optimistic\":2,\"Most Likely\":6,\"Pessimistic\":9}\n",
    "label_10 = {\"optimistic\":2,\"Most Likely\":6,\"Pessimistic\":9}\n",
    "\n"
   ]
  },
  {
   "cell_type": "code",
   "execution_count": null,
   "metadata": {},
   "outputs": [],
   "source": [
    "for i in label_1:\n",
    "    label_name = label_.append(i)\n",
    "    durations = [label_name[\"optimistic\"], (label_name[\"Most Likely\"]*4), label_name[\"Pessimistic\"]]\n",
    "\n"
   ]
  },
  {
   "cell_type": "code",
   "execution_count": 6,
   "metadata": {},
   "outputs": [
    {
     "ename": "NameError",
     "evalue": "name 'Task_A' is not defined",
     "output_type": "error",
     "traceback": [
      "\u001b[1;31m---------------------------------------------------------------------------\u001b[0m",
      "\u001b[1;31mNameError\u001b[0m                                 Traceback (most recent call last)",
      "Cell \u001b[1;32mIn[6], line 6\u001b[0m\n\u001b[0;32m      3\u001b[0m \u001b[38;5;66;03m# Need expected duration.\u001b[39;00m\n\u001b[0;32m      5\u001b[0m labels \u001b[38;5;241m=\u001b[39m [\u001b[38;5;124m'\u001b[39m\u001b[38;5;124mOptimistic\u001b[39m\u001b[38;5;124m'\u001b[39m,\u001b[38;5;124m'\u001b[39m\u001b[38;5;124mMost Likely\u001b[39m\u001b[38;5;124m'\u001b[39m, \u001b[38;5;124m'\u001b[39m\u001b[38;5;124mPessimistic\u001b[39m\u001b[38;5;124m'\u001b[39m]\n\u001b[1;32m----> 6\u001b[0m durations \u001b[38;5;241m=\u001b[39m [\u001b[43mTask_A\u001b[49m[\u001b[38;5;124m\"\u001b[39m\u001b[38;5;124mO\u001b[39m\u001b[38;5;124m\"\u001b[39m], (Task_A[\u001b[38;5;124m\"\u001b[39m\u001b[38;5;124mA\u001b[39m\u001b[38;5;124m\"\u001b[39m]\u001b[38;5;241m*\u001b[39m\u001b[38;5;241m4\u001b[39m), Task_B[\u001b[38;5;124m\"\u001b[39m\u001b[38;5;124mP\u001b[39m\u001b[38;5;124m\"\u001b[39m]]\n\u001b[0;32m      8\u001b[0m plt\u001b[38;5;241m.\u001b[39mbar(labels, durations, color\u001b[38;5;241m=\u001b[39m[\u001b[38;5;124m'\u001b[39m\u001b[38;5;124mgreen\u001b[39m\u001b[38;5;124m'\u001b[39m, \u001b[38;5;124m'\u001b[39m\u001b[38;5;124mblue\u001b[39m\u001b[38;5;124m'\u001b[39m, \u001b[38;5;124m'\u001b[39m\u001b[38;5;124mred\u001b[39m\u001b[38;5;124m'\u001b[39m,\u001b[38;5;124m'\u001b[39m\u001b[38;5;124mpurple\u001b[39m\u001b[38;5;124m'\u001b[39m])\n\u001b[0;32m      9\u001b[0m plt\u001b[38;5;241m.\u001b[39mtitle(\u001b[38;5;124m\"\u001b[39m\u001b[38;5;124mPERT Estimation for task Duration\u001b[39m\u001b[38;5;124m\"\u001b[39m)\n",
      "\u001b[1;31mNameError\u001b[0m: name 'Task_A' is not defined"
     ]
    }
   ],
   "source": [
    "import matplotlib.pyplot as plt\n",
    "from matplotlib.lines import Line2D\n",
    "# Need expected duration.\n",
    "\n",
    "labels = ['Optimistic','Most Likely', 'Pessimistic']\n",
    "durations = [Task_A[\"O\"], (Task_A[\"A\"]*4), Task_B[\"P\"]]\n",
    "\n",
    "plt.bar(labels, durations, color=['green', 'blue', 'red','purple'])\n",
    "plt.title(\"PERT Estimation for task Duration\")\n",
    "plt.ylabel(\"Duration (days)\")\n",
    "plt.show()\n",
    "\n",
    "fig, ax = plt.subplots()\n",
    "line, = ax.plot(1,durations, color='blue')\n",
    "\n",
    "# Line plot for duration\n",
    "fig, ax = plt.subplots()\n",
    "x_values = [1, 2, 3]  \n",
    "line, = ax.plot(x_values, durations, color='blue', marker='o')\n",
    "ax.set_xticks(x_values)\n",
    "ax.set_xticklabels(labels)\n",
    "plt.title(\"PERT Line Plot for Task A Duration\")\n",
    "plt.ylabel(\"Duration (days)\")\n",
    "plt.show()\n"
   ]
  }
 ],
 "metadata": {
  "kernelspec": {
   "display_name": "Python 3",
   "language": "python",
   "name": "python3"
  },
  "language_info": {
   "codemirror_mode": {
    "name": "ipython",
    "version": 3
   },
   "file_extension": ".py",
   "mimetype": "text/x-python",
   "name": "python",
   "nbconvert_exporter": "python",
   "pygments_lexer": "ipython3",
   "version": "3.11.5"
  }
 },
 "nbformat": 4,
 "nbformat_minor": 2
}
